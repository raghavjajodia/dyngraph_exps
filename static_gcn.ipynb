{
 "cells": [
  {
   "cell_type": "code",
   "execution_count": 1,
   "metadata": {},
   "outputs": [],
   "source": [
    "import argparse, time\n",
    "import numpy as np\n",
    "import torch\n",
    "import torch.nn as nn\n",
    "import torch.nn.functional as F\n",
    "from dgl import DGLGraph\n",
    "from dgl.data import register_data_args, load_data\n",
    "from dgl.data import BitcoinOTC\n",
    "import datetime"
   ]
  },
  {
   "cell_type": "code",
   "execution_count": null,
   "metadata": {},
   "outputs": [],
   "source": [
    "node_dim = 256"
   ]
  },
  {
   "cell_type": "code",
   "execution_count": 2,
   "metadata": {},
   "outputs": [
    {
     "name": "stdout",
     "output_type": "stream",
     "text": [
      "Number of graphs: \n",
      "136\n"
     ]
    },
    {
     "data": {
      "text/plain": [
       "32812"
      ]
     },
     "execution_count": 2,
     "metadata": {},
     "output_type": "execute_result"
    }
   ],
   "source": [
    "#Trying DGL's implementation of BitcoinOTC class\n",
    "data = BitcoinOTC()\n",
    "print(\"Number of graphs: \")\n",
    "print(len(data.graphs))\n",
    "traingr = data.graphs[94]\n",
    "traingr.number_of_edges()"
   ]
  },
  {
   "cell_type": "code",
   "execution_count": 12,
   "metadata": {},
   "outputs": [],
   "source": [
    "graphs = []\n",
    "\n",
    "data  = np.loadtxt('soc-sign-bitcoinotc.csv', delimiter=',').astype(np.int64)\n",
    "data[:, 0:2] = data[:, 0:2] - data[:, 0:2].min()\n",
    "num_nodes = data[:, 0:2].max() - data[:, 0:2].min() + 1\n",
    "delta = datetime.timedelta(days=14).total_seconds()\n",
    "# The source code is not released, but the paper indicates there're\n",
    "# totally 137 samples. The cutoff below has exactly 137 samples.\n",
    "time_index = np.around(\n",
    "    (data[:, 3] - data[:, 3].min())/delta).astype(np.int64)\n",
    "for i in range(time_index.max()):\n",
    "    g = DGLGraph()\n",
    "    g.add_nodes(num_nodes)\n",
    "    row_mask = time_index <= i\n",
    "    edges = data[row_mask][:, 0:2]\n",
    "    rate = data[row_mask][:, 2]\n",
    "    g.add_edges(edges[:, 0], edges[:, 1])\n",
    "    g.edata['h'] = rate.reshape(-1, 1)\n",
    "    g.ndata['h'] = torch.zeros(num_nodes, 256)\n",
    "    graphs.append(g)"
   ]
  },
  {
   "cell_type": "code",
   "execution_count": 4,
   "metadata": {},
   "outputs": [
    {
     "name": "stdout",
     "output_type": "stream",
     "text": [
      "[[         5          1          4 1289241911]\n",
      " [         5          4          2 1289241941]\n",
      " [         0         14          1 1289243140]\n",
      " ...\n",
      " [      2730       4896          5 1453679434]\n",
      " [        12       1127          1 1453679632]\n",
      " [      1127         12          2 1453684323]]\n"
     ]
    }
   ],
   "source": [
    "print(data)"
   ]
  },
  {
   "cell_type": "code",
   "execution_count": 15,
   "metadata": {},
   "outputs": [
    {
     "data": {
      "text/plain": [
       "tensor([[0., 0., 0.,  ..., 0., 0., 0.],\n",
       "        [0., 0., 0.,  ..., 0., 0., 0.],\n",
       "        [0., 0., 0.,  ..., 0., 0., 0.],\n",
       "        ...,\n",
       "        [0., 0., 0.,  ..., 0., 0., 0.],\n",
       "        [0., 0., 0.,  ..., 0., 0., 0.],\n",
       "        [0., 0., 0.,  ..., 0., 0., 0.]])"
      ]
     },
     "execution_count": 15,
     "metadata": {},
     "output_type": "execute_result"
    }
   ],
   "source": [
    "graphs[0].ndata['h']"
   ]
  },
  {
   "cell_type": "markdown",
   "metadata": {},
   "source": [
    "## Model definition"
   ]
  },
  {
   "cell_type": "code",
   "execution_count": null,
   "metadata": {},
   "outputs": [],
   "source": []
  }
 ],
 "metadata": {
  "kernelspec": {
   "display_name": "Python 3",
   "language": "python",
   "name": "python3"
  },
  "language_info": {
   "codemirror_mode": {
    "name": "ipython",
    "version": 3
   },
   "file_extension": ".py",
   "mimetype": "text/x-python",
   "name": "python",
   "nbconvert_exporter": "python",
   "pygments_lexer": "ipython3",
   "version": "3.7.3"
  }
 },
 "nbformat": 4,
 "nbformat_minor": 4
}
