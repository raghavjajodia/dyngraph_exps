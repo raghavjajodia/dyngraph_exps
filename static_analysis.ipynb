{
 "cells": [
  {
   "cell_type": "code",
   "execution_count": 12,
   "metadata": {},
   "outputs": [],
   "source": [
    "import argparse, time\n",
    "import numpy as np\n",
    "import torch\n",
    "import torch.nn as nn\n",
    "import torch.nn.functional as F\n",
    "from dgl import DGLGraph\n",
    "from dgl.data import register_data_args, load_data\n",
    "from dgl.data import BitcoinOTC\n",
    "import datetime\n",
    "from dgl.nn.pytorch import GraphConv\n",
    "import time\n",
    "\n",
    "import os\n",
    "import json\n",
    "from collections import defaultdict, Counter\n",
    "from tqdm import tqdm\n",
    "import torch.optim as optim\n",
    "from torch.optim import lr_scheduler\n",
    "import time\n",
    "import copy\n",
    "import matplotlib.pyplot as plt\n",
    "from os import listdir\n",
    "from os.path import isfile, join"
   ]
  },
  {
   "cell_type": "code",
   "execution_count": 2,
   "metadata": {},
   "outputs": [],
   "source": [
    "out_path = '/misc/vlgscratch4/BrunaGroup/rj1408/dynamic_nn/models/static_gcn/btcotc/'"
   ]
  },
  {
   "cell_type": "code",
   "execution_count": 3,
   "metadata": {},
   "outputs": [],
   "source": [
    "num_gpus = torch.cuda.device_count()\n",
    "if num_gpus > 0:\n",
    "    device = 'cuda'\n",
    "else:\n",
    "    device = 'cpu'"
   ]
  },
  {
   "cell_type": "code",
   "execution_count": 4,
   "metadata": {},
   "outputs": [],
   "source": [
    "def removeSelfEdges(edgeList, colFrom, colTo):\n",
    "    mask = edgeList[:, colFrom] - edgeList[:, colTo] != 0\n",
    "    edgeList = edgeList[mask]\n",
    "    return edgeList"
   ]
  },
  {
   "cell_type": "code",
   "execution_count": 9,
   "metadata": {},
   "outputs": [],
   "source": [
    "data  = np.loadtxt('../soc-sign-bitcoinotc.csv', delimiter=',').astype(np.int64)\n",
    "data[:, 0:2] = data[:, 0:2] - data[:, 0:2].min()\n",
    "data = removeSelfEdges(data, 0, 1)\n",
    "num_nodes = data[:, 0:2].max() - data[:, 0:2].min() + 1\n",
    "delta = datetime.timedelta(days=14).total_seconds()\n",
    "time_index = np.around(\n",
    "    (data[:, 3] - data[:, 3].min())/delta).astype(np.int64)"
   ]
  },
  {
   "cell_type": "code",
   "execution_count": 5,
   "metadata": {},
   "outputs": [
    {
     "ename": "NameError",
     "evalue": "name 'node_dim' is not defined",
     "output_type": "error",
     "traceback": [
      "\u001b[0;31m---------------------------------------------------------------------------\u001b[0m",
      "\u001b[0;31mNameError\u001b[0m                                 Traceback (most recent call last)",
      "\u001b[0;32m<ipython-input-5-80f24951395f>\u001b[0m in \u001b[0;36m<module>\u001b[0;34m\u001b[0m\n\u001b[1;32m     21\u001b[0m     \u001b[0mg\u001b[0m\u001b[0;34m.\u001b[0m\u001b[0medata\u001b[0m\u001b[0;34m[\u001b[0m\u001b[0;34m'feat'\u001b[0m\u001b[0;34m]\u001b[0m \u001b[0;34m=\u001b[0m \u001b[0mtorch\u001b[0m\u001b[0;34m.\u001b[0m\u001b[0mFloatTensor\u001b[0m\u001b[0;34m(\u001b[0m\u001b[0mrate\u001b[0m\u001b[0;34m.\u001b[0m\u001b[0mreshape\u001b[0m\u001b[0;34m(\u001b[0m\u001b[0;34m-\u001b[0m\u001b[0;36m1\u001b[0m\u001b[0;34m,\u001b[0m \u001b[0;36m1\u001b[0m\u001b[0;34m)\u001b[0m\u001b[0;34m)\u001b[0m\u001b[0;34m\u001b[0m\u001b[0;34m\u001b[0m\u001b[0m\n\u001b[1;32m     22\u001b[0m     \u001b[0mg\u001b[0m\u001b[0;34m.\u001b[0m\u001b[0medata\u001b[0m\u001b[0;34m[\u001b[0m\u001b[0;34m'diff'\u001b[0m\u001b[0;34m]\u001b[0m \u001b[0;34m=\u001b[0m \u001b[0mdiffmask\u001b[0m\u001b[0;34m\u001b[0m\u001b[0;34m\u001b[0m\u001b[0m\n\u001b[0;32m---> 23\u001b[0;31m     \u001b[0mg\u001b[0m\u001b[0;34m.\u001b[0m\u001b[0mndata\u001b[0m\u001b[0;34m[\u001b[0m\u001b[0;34m'feat'\u001b[0m\u001b[0;34m]\u001b[0m \u001b[0;34m=\u001b[0m \u001b[0mtorch\u001b[0m\u001b[0;34m.\u001b[0m\u001b[0mzeros\u001b[0m\u001b[0;34m(\u001b[0m\u001b[0mnum_nodes\u001b[0m\u001b[0;34m,\u001b[0m \u001b[0mnode_dim\u001b[0m\u001b[0;34m)\u001b[0m\u001b[0;34m\u001b[0m\u001b[0;34m\u001b[0m\u001b[0m\n\u001b[0m\u001b[1;32m     24\u001b[0m \u001b[0;34m\u001b[0m\u001b[0m\n\u001b[1;32m     25\u001b[0m     \u001b[0;32mif\u001b[0m \u001b[0mself_loop\u001b[0m \u001b[0;34m==\u001b[0m \u001b[0;32mTrue\u001b[0m\u001b[0;34m:\u001b[0m\u001b[0;34m\u001b[0m\u001b[0;34m\u001b[0m\u001b[0m\n",
      "\u001b[0;31mNameError\u001b[0m: name 'node_dim' is not defined"
     ]
    }
   ],
   "source": [
    "#Loading \n",
    "graphs = []\n",
    "\n",
    "data  = np.loadtxt('../soc-sign-bitcoinotc.csv', delimiter=',').astype(np.int64)\n",
    "data[:, 0:2] = data[:, 0:2] - data[:, 0:2].min()\n",
    "data = removeSelfEdges(data, 0, 1)\n",
    "num_nodes = data[:, 0:2].max() - data[:, 0:2].min() + 1\n",
    "delta = datetime.timedelta(days=14).total_seconds()\n",
    "time_index = np.around(\n",
    "    (data[:, 3] - data[:, 3].min())/delta).astype(np.int64)\n",
    "\n",
    "prevind = 0\n",
    "for i in range(time_index.max()):\n",
    "    g = DGLGraph()\n",
    "    g.add_nodes(num_nodes)\n",
    "    row_mask = time_index <= i\n",
    "    edges = data[row_mask][:, 0:2]\n",
    "    rate = data[row_mask][:, 2]\n",
    "    diffmask = np.arange(len(edges)) >= prevind\n",
    "    g.add_edges(edges[:, 0], edges[:, 1])\n",
    "    g.edata['feat'] = torch.FloatTensor(rate.reshape(-1, 1))\n",
    "    g.edata['diff'] = diffmask\n",
    "    g.ndata['feat'] = torch.zeros(num_nodes, node_dim)\n",
    "    \n",
    "    g.add_edges(g.nodes(), g.nodes())\n",
    "        \n",
    "    selfedgemask = np.zeros(g.number_of_edges(), dtype = bool)\n",
    "    selfedgemask[-g.number_of_nodes():] = True\n",
    "    g.edata['self_edge'] = selfedgemask\n",
    "    \n",
    "    graphs.append(g)\n",
    "    prevind = len(edges)\n",
    "    \n",
    "train_graph = graphs[94]\n",
    "valid_graphs = graphs[95:109]\n",
    "test_graphs = graphs[109:]"
   ]
  },
  {
   "cell_type": "code",
   "execution_count": 6,
   "metadata": {},
   "outputs": [],
   "source": [
    "class GCN(nn.Module):\n",
    "    def __init__(self,\n",
    "                 in_feats,\n",
    "                 n_hidden,\n",
    "                 n_layers,\n",
    "                 activation,\n",
    "                 dropout):\n",
    "        super(GCN, self).__init__()\n",
    "        self.layers = nn.ModuleList()\n",
    "        # input layer\n",
    "        self.layers.append(GraphConv(in_feats, n_hidden, activation=activation))\n",
    "        # hidden layers\n",
    "        for i in range(n_layers - 1):\n",
    "            self.layers.append(GraphConv(n_hidden, n_hidden, activation=activation))\n",
    "        # output layer\n",
    "        self.outlayer = nn.Linear(2 * n_hidden, 1, bias = True)\n",
    "        self.dropout = nn.Dropout(p=dropout)\n",
    "\n",
    "    def forward(self, features, g):\n",
    "        h = features\n",
    "        for i, layer in enumerate(self.layers):\n",
    "            if i != 0:\n",
    "                h = self.dropout(h)\n",
    "            h = layer(g, h)\n",
    "        srcfeatures = torch.stack(list(map(lambda nd: h[nd], g.all_edges()[0])))\n",
    "        destfeatures = torch.stack(list(map(lambda nd: h[nd], g.all_edges()[1])))\n",
    "        edgefeatures = torch.cat((srcfeatures, destfeatures), dim = 1)\n",
    "        outputs = self.outlayer(edgefeatures)\n",
    "        outputs = 20*torch.sigmoid(outputs) - 1\n",
    "        return outputs"
   ]
  },
  {
   "cell_type": "code",
   "execution_count": 7,
   "metadata": {},
   "outputs": [],
   "source": [
    "def evaluate_loss(model, criterion, device, valid_graphs):\n",
    "    model.eval()\n",
    "    \n",
    "    epoch_loss = 0\n",
    "    num_samples = 0\n",
    "    \n",
    "    #validation phase\n",
    "    with torch.set_grad_enabled(False):\n",
    "        for val_graph in valid_graphs:\n",
    "            outputs = model(val_graph.ndata['feat'], val_graph)\n",
    "            labels = val_graph.edata['feat']\n",
    "            outputs = outputs[val_graph.edata['diff']]\n",
    "            labels = labels[val_graph.edata['diff']]\n",
    "            num_samples += labels.shape[0] \n",
    "            loss = criterion(outputs, labels)\n",
    "            epoch_loss += (loss.item()* labels.shape[0])\n",
    "    \n",
    "    return epoch_loss/num_samples"
   ]
  },
  {
   "cell_type": "code",
   "execution_count": 11,
   "metadata": {},
   "outputs": [],
   "source": [
    "def evaluate_loss(modelpath, device):\n",
    "     # create GCN model\n",
    "    checkpoint = torch.load(modelpath, map_location=device)\n",
    "    hyperdic = checkpoint['hyperparams']\n",
    "    node_dim = hyperdic['node_dim']\n",
    "    n_layers = hyperdic['n_layers']\n",
    "    dropout = hyperdic['dropout']\n",
    "    wt_decay = hyperdic['wt_decay']\n",
    "    model = GCN(node_dim, node_dim, n_layers, F.relu, dropout)\n",
    "    model.to(device)\n",
    "    model.load_state_dict(checkpoint['model_state_dict'])\n",
    "    criterion = nn.MSELoss()\n",
    "    \n",
    "    #Loading \n",
    "    graphs = []\n",
    "    prevind = 0\n",
    "    for i in range(time_index.max()):\n",
    "        g = DGLGraph()\n",
    "        g.add_nodes(num_nodes)\n",
    "        row_mask = time_index <= i\n",
    "        edges = data[row_mask][:, 0:2]\n",
    "        rate = data[row_mask][:, 2]\n",
    "        diffmask = np.arange(len(edges)) >= prevind\n",
    "        g.add_edges(edges[:, 0], edges[:, 1])\n",
    "        g.edata['feat'] = torch.FloatTensor(rate.reshape(-1, 1))\n",
    "        g.edata['diff'] = diffmask\n",
    "        g.ndata['feat'] = torch.zeros(num_nodes, node_dim)\n",
    "        g.add_edges(g.nodes(), g.nodes())\n",
    "        selfedgemask = np.zeros(g.number_of_edges(), dtype = bool)\n",
    "        selfedgemask[-g.number_of_nodes():] = True\n",
    "        g.edata['self_edge'] = selfedgemask\n",
    "\n",
    "        graphs.append(g)\n",
    "        prevind = len(edges)\n",
    "\n",
    "    test_graphs = graphs[109:]\n",
    "    tst_loss = evaluate_loss(model, criterion, device, test_graphs)\n",
    "    return tst_loss, checkpoint['epoch']"
   ]
  },
  {
   "cell_type": "code",
   "execution_count": null,
   "metadata": {},
   "outputs": [],
   "source": [
    "def getBestModel(direc, device):\n",
    "    bsttestloss = 100000000\n",
    "    onlyfiles = [f for f in listdir(direc) if isfile(join(direc, f))]"
   ]
  },
  {
   "cell_type": "code",
   "execution_count": null,
   "metadata": {},
   "outputs": [],
   "source": [
    " # create GCN model\n",
    "model = GCN(node_dim, node_dim, n_layers, F.relu, dropout)\n",
    "model.to(device)\n",
    "criterion = nn.MSELoss()\n",
    "model_parameters = [p for p in model.parameters() if p.requires_grad]\n",
    "optimizer = optim.Adam(model_parameters, lr=learning_rate, weight_decay = wt_decay)\n",
    "exp_lr_scheduler = lr_scheduler.StepLR(optimizer, step_size=stpsize, gamma=0.1)\n",
    "hyper_params = {'node_dim' : node_dim,\n",
    "    'n_layers' : n_layers,\n",
    "    'dropout' : dropout,\n",
    "    'wt_decay' : wt_decay }\n",
    "\n",
    "bst_model = train_model(model, criterion, optimizer, exp_lr_scheduler, device, out_path, hyper_params, n_epochs)"
   ]
  }
 ],
 "metadata": {
  "kernelspec": {
   "display_name": "Python 3",
   "language": "python",
   "name": "python3"
  },
  "language_info": {
   "codemirror_mode": {
    "name": "ipython",
    "version": 3
   },
   "file_extension": ".py",
   "mimetype": "text/x-python",
   "name": "python",
   "nbconvert_exporter": "python",
   "pygments_lexer": "ipython3",
   "version": "3.7.3"
  }
 },
 "nbformat": 4,
 "nbformat_minor": 4
}
